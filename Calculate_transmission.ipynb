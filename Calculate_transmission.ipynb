{
 "cells": [
  {
   "attachments": {},
   "cell_type": "markdown",
   "metadata": {},
   "source": [
    "This file calculates the transmission, T, through a ramp shaped potential barrier as a function of energy, E, for a series ov voltage biases (V_sd). It uses either the solution to the Schördinger equations (QM), or using the tunnel approximation (section 3B in SI), both detailed in manuscript/SI. The output are 2D arrays T[j,i] where j indicates the energy and i the voltage bias"
   ]
  },
  {
   "cell_type": "markdown",
   "metadata": {},
   "source": [
    "Imports"
   ]
  },
  {
   "cell_type": "code",
   "execution_count": 1,
   "metadata": {},
   "outputs": [],
   "source": [
    "import numpy as np\n",
    "import matplotlib.pyplot  as plt\n",
    "import warnings\n",
    "from tqdm import tqdm\n",
    "import json\n",
    "import tkinter as tk\n",
    "from tkinter import filedialog as fd\n",
    "from ratchet_functions import *"
   ]
  },
  {
   "attachments": {},
   "cell_type": "markdown",
   "metadata": {},
   "source": [
    "# Constants & parameters\n",
    "Units are always given in SI, without any \"size-prefixes\" e.g. 10^-9 m instead of 1 nm"
   ]
  },
  {
   "attachments": {},
   "cell_type": "markdown",
   "metadata": {},
   "source": [
    "Constants:"
   ]
  },
  {
   "cell_type": "code",
   "execution_count": 2,
   "metadata": {},
   "outputs": [],
   "source": [
    "k_B=8.617E-5 #eV\n",
    "m_e = 9.11E-31 #kg\n",
    "m_eff=0.023; #Effective mass InAs, in free electron mass.\n",
    "h_bar = 1.05E-34 #Js\n",
    "h2m = h_bar**2/(2*m_e*m_eff)*6.24E18 # [eVm^2], 6.24E18 converts from J to eV"
   ]
  },
  {
   "attachments": {},
   "cell_type": "markdown",
   "metadata": {},
   "source": [
    "Parameters:"
   ]
  },
  {
   "cell_type": "code",
   "execution_count": 90,
   "metadata": {},
   "outputs": [],
   "source": [
    "T_K=77; # Base temperature in K\n",
    "kT=T_K*k_B; # K to meV\n",
    "L=92*1E-9; #barrier length in m\n",
    "U_top=0.340 #barrier height in eV\n",
    "dE=1E-4     #Integration stepsize for landauer Buttiker integral (typically 1E-4 is enough)\n",
    "E_array = np.arange(0, U_top*2, dE)  \n",
    "V_min = -20E-3 \n",
    "V_max = 20E-3\n",
    "steps = 201    #number of steps\n",
    "V_sd=np.linspace(V_min, V_max, steps)    #source-drain voltage range sneed to be the same as the experimentally applied voltage range and number of steps if the model and experiment are to be fitted\n"
   ]
  },
  {
   "attachments": {},
   "cell_type": "markdown",
   "metadata": {},
   "source": [
    "Settings:"
   ]
  },
  {
   "cell_type": "code",
   "execution_count": 96,
   "metadata": {},
   "outputs": [],
   "source": [
    "font = {'family' : 'Arial',\n",
    "        'size'   : 7}\n",
    "\n",
    "figwidth = 3.45\n",
    "figheight = 3.45\n",
    "#Chose destination and group name for all files saved below\n",
    "save_data = 0\n",
    "save_fig = 1\n",
    "\n",
    "if save_fig==1:\n",
    "    savename_fig = get_savefile(title='Save figure as (no extension)')\n",
    "\n",
    "if save_data == 1:\n",
    "    savename_data = get_savefile(title='Save data in json file as', extension='.json')"
   ]
  },
  {
   "cell_type": "code",
   "execution_count": 98,
   "metadata": {},
   "outputs": [
    {
     "name": "stderr",
     "output_type": "stream",
     "text": [
      "<ipython-input-98-182b44eaa687>:27: RuntimeWarning: invalid value encountered in sqrt\n",
      "  C = 1/np.pi*(4*q*k*alpha**2)/(alpha**2*np.sqrt(alpha*L+beta)+q**2/np.sqrt(alpha*L+beta))/((alpha*AiBp)**2+(k*AiB)**2)\n",
      "<ipython-input-98-182b44eaa687>:29: RuntimeWarning: invalid value encountered in double_scalars\n",
      "  T_tunnel[j] = C*np.exp(-4/3*L*np.sqrt(1/h2m)*(U_top-E)**(3/2)/(U_top + V))\n"
     ]
    }
   ],
   "source": [
    "from scipy import special # for airy functions\n",
    "#some constants\n",
    "T_K=77; # Base temperature in K\n",
    "kT=T_K*k_B; # K to meV\n",
    "L=92*1E-9; #barrier length in m\n",
    "U_top=0.340 #barrier height in eV\n",
    "dE=1E-4     #Integration stepsize for landauer Buttiker integral (typically 1E-4 is enough)\n",
    "E_array = np.arange(0, U_top*2, dE)  \n",
    "\n",
    "m_e = 9.11E-31 #kg\n",
    "h_bar = 1.05E-34 #Js\n",
    "h2m = h_bar**2/(2*m_e*m_eff)*6.24E18 # [eVm^2], 6.24E18 converts from J to eV\n",
    "\n",
    "alpha = ((U_top)/(L*h2m))**(1/3)\n",
    "\n",
    "V=0\n",
    "T_tunnel  = np.zeros(len(E_array))\n",
    "for j,E in enumerate(E_array):\n",
    "    #The variables\n",
    "    \n",
    "    beta = -(E+V)*(L**2/(h2m*(U_top+V)**2))**(1/3)\n",
    "    q = np.sqrt((E)/h2m)    # if E is instead set to always be zero at the bottom of band on gradient side then q = np.sqrt((E+V)/h2m) and k = np.sqrt((E)/h2m)\n",
    "    k = np.sqrt((E-V)/h2m)    \n",
    "    #The airy functions\n",
    "    AiB, AiBp, BiB, BiBp = special.airy(beta)\n",
    "\n",
    "    C = 1/np.pi*(4*q*k*alpha**2)/(alpha**2*np.sqrt(alpha*L+beta)+q**2/np.sqrt(alpha*L+beta))/((alpha*AiBp)**2+(k*AiB)**2)\n",
    "\n",
    "    T_tunnel[j] = C*np.exp(-4/3*L*np.sqrt(1/h2m)*(U_top-E)**(3/2)/(U_top + V))"
   ]
  },
  {
   "cell_type": "code",
   "execution_count": 99,
   "metadata": {},
   "outputs": [
    {
     "data": {
      "text/plain": [
       "array([0.00000000e+00, 1.12630902e-26, 2.29311491e-26, ...,\n",
       "                  nan,            nan,            nan])"
      ]
     },
     "execution_count": 99,
     "metadata": {},
     "output_type": "execute_result"
    }
   ],
   "source": [
    "T_tunnel "
   ]
  },
  {
   "cell_type": "code",
   "execution_count": 91,
   "metadata": {},
   "outputs": [
    {
     "name": "stderr",
     "output_type": "stream",
     "text": [
      "101it [01:06,  2.50it/s]<ipython-input-48-c6e8249bac3c>:33: RuntimeWarning: invalid value encountered in sqrt\n",
      "  k = np.sqrt((E-V)/h2m)\n",
      "201it [01:54,  1.75it/s]\n"
     ]
    }
   ],
   "source": [
    "T_QM = np.zeros((len(E_array), len(V_sd)))\n",
    "#T_tunnel = np.zeros((len(E_array), len(V_sd)))\n",
    "\n",
    "for i, V in tqdm(enumerate(V_sd),position=0, leave=True):\n",
    "    for j,E in enumerate(E_array):\n",
    "        T_QM_temp = Transmission_QM(E, V, L=L, U_top = U_top)\n",
    "        if np.isnan(T_QM_temp):     #in case the transmission function would not return a number\n",
    "            T_QM[j,i] = 0\n",
    "        else: T_QM[j,i] = T_QM_temp\n",
    "        \n"
   ]
  },
  {
   "cell_type": "markdown",
   "metadata": {},
   "source": [
    "# Plot"
   ]
  },
  {
   "cell_type": "code",
   "execution_count": 95,
   "metadata": {},
   "outputs": [
    {
     "data": {
      "image/png": "[encoded data removed]",
      "text/plain": [
       "<Figure size 648x324 with 2 Axes>"
      ]
     },
     "metadata": {
      "needs_background": "light"
     },
     "output_type": "display_data"
    }
   ],
   "source": [
    "figwidth = 3\n",
    "figheight = 3\n",
    "fig, (ax1, ax2) = plt.subplots(1,2)\n",
    "ax1.plot(E_array, T_QM[:,int(len(V_sd)/2)], 'r', label = 'QM')\n",
    "ax1.plot(E_array, T_QM[:,-1], 'r:', label = '$V=20$ [mV]')\n",
    "ax1.plot(E_array, T_QM[:,0], 'r--', label = '$V=-20$ [mV]')\n",
    "#ax1.plot(E_array, T_tunnel, 'b', label = 'tunnel')\n",
    "#ax1.plot(E_array, T_tunnel[:,-1], 'b:', label = 'V={:.0f} [mV]'.format(V_sd[0]*1E3))\n",
    "#ax1.plot(E_array, T_tunnel[:,0], 'b--', label = 'V={:.0f} [mV]'.format(V_sd[-1]*1E3))\n",
    "ax1.axvline(x=U_top, linestyle=':', color='k', linewidth = 1)\n",
    "ax1.legend()\n",
    "ax1.set_xlabel('$E$ [eV]')\n",
    "ax1.set_ylabel('$\\Gamma (E,V)$')\n",
    "ax1.set_ylim(0,1)# 0.01)\n",
    "ax1.set_xlim(0.1, 0.6) #0.48, 0.52)\n",
    "#ax1.set_yscale('log')\n",
    "\n",
    "ax2.plot(E_array, T_QM[:,int(len(V_sd)/2)], 'r', label = 'QM')\n",
    "ax2.plot(E_array, T_QM[:,-1], 'r:', label = '$V=20$ [mV]'.format(V_sd[0]))\n",
    "ax2.plot(E_array, T_QM[:,0], 'r--', label = '$V=-20$ [mV]')\n",
    "#ax2.plot(E_array, T_tunnel, 'b', label = 'tunnel')\n",
    "#ax2.plot(E_array, T_tunnel[:,-1], 'b:', label = 'V=-20 [mV]')\n",
    "#ax2.plot(E_array, T_tunnel[:,0], 'b--', label = 'V=20 [mV]')\n",
    "ax2.set_ylim(0, 0.05)# 0.01)\n",
    "ax2.set_xlim(0.2, 0.3) #0.48, 0.52)\n",
    "ax2.set_xlabel('E [eV]')\n",
    "ax2.set_ylabel('$\\Gamma (E,V)$')\n",
    "\n",
    "fig.set_size_inches(figwidth*3, figheight*1.5)"
   ]
  },
  {
   "cell_type": "markdown",
   "metadata": {},
   "source": [
    "# Save \n"
   ]
  },
  {
   "cell_type": "code",
   "execution_count": 97,
   "metadata": {},
   "outputs": [],
   "source": [
    "\n",
    "if save_fig==1:\n",
    "    fig.savefig(savename_fig+'.svg')\n",
    "    fig.savefig(savename_fig+'.png')\n",
    "\n",
    "if save_data == 1:\n",
    "    ###Data\n",
    "    data = {\n",
    "        \"V_sd\": V_sd.tolist(),\n",
    "        \"E\": E_array.tolist(),\n",
    "        \"T_QM\": T_QM.T.tolist(),\n",
    "        \"T_tunnel\": T_tunnel.T.tolist(),\n",
    "\n",
    "        # #parameters\n",
    "        \"L\":L,\n",
    "        \"dE\": dE,\n",
    "        \"T_base\": T_K,\n",
    "        \"U_top\": U_top,\n",
    "        }\n",
    "    json.dump(data, open(savename_data, 'w'))"
   ]
  },
  {
   "cell_type": "markdown",
   "metadata": {},
   "source": []
  }
 ],
 "metadata": {
  "kernelspec": {
   "display_name": "Python 3.8.5 ('base')",
   "language": "python",
   "name": "python3"
  },
  "language_info": {
   "codemirror_mode": {
    "name": "ipython",
    "version": 3
   },
   "file_extension": ".py",
   "mimetype": "text/x-python",
   "name": "python",
   "nbconvert_exporter": "python",
   "pygments_lexer": "ipython3",
   "version": "3.8.5"
  },
  "orig_nbformat": 4,
  "vscode": {
   "interpreter": {
    "hash": "f733725efb2e286c0e235a0ec9ccd0717195ecc6a8f3ca8ce3b511d68b7e1e76"
   }
  }
 },
 "nbformat": 4,
 "nbformat_minor": 2
}
